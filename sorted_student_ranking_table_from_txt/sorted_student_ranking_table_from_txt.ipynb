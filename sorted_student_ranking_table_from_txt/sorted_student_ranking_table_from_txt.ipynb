{
  "nbformat": 4,
  "nbformat_minor": 0,
  "metadata": {
    "colab": {
      "provenance": []
    },
    "kernelspec": {
      "name": "python3",
      "display_name": "Python 3"
    },
    "language_info": {
      "name": "python"
    }
  },
  "cells": [
    {
      "cell_type": "code",
      "execution_count": null,
      "metadata": {
        "id": "1wfB4CZhObaA"
      },
      "outputs": [],
      "source": [
        "datatxt=input(\"Please enter the filename: \")\n",
        "inFile = open(datatxt,\"r\")\n",
        "grade_txt_file = inFile.readlines()\n",
        "grade_txt_file.pop(0)\n",
        "\n",
        "letter_grades = [\"A\",4.00,\"A-\",3.70,\"B+\",3.30,\"B\",3.00,\"B-\",2.70,\"C+\",2.30,\"C\",2.00,\"C-\",1.70,\"D+\",1.30,\"D\",1.00,\"F\",0.00]\n",
        "\n",
        "def replace_letter_grades_to_int(txt):\n",
        "  altered_list = []\n",
        "  for row in grade_txt_file:\n",
        "    altered_row = row.replace(\" \",\"\").replace(\"\\n\",\"\").split(\"\\t\")\n",
        "    for element in range(len(altered_row)):\n",
        "      if element >0:\n",
        "        grade_index = 0\n",
        "        while grade_index<len(letter_grades):\n",
        "          if altered_row[element] == letter_grades[grade_index]:\n",
        "            altered_row.insert(element,letter_grades[grade_index+1])\n",
        "            altered_row.pop(element+1)\n",
        "            break\n",
        "          grade_index +=2\n",
        "    altered_list.append(altered_row)\n",
        "  return altered_list \n",
        "\n",
        "def gpa_calculation(altered_list):\n",
        "  student_gpa = {}\n",
        "  # row = ['Yahsi,FatihTaha', 3.7, 2.7, 2.7, 1.0, 3.3, 4.0]\n",
        "  for row in altered_list:\n",
        "    if not row[0] in student_gpa:\n",
        "      total = (row[1] + row[2] + row[3] + row[4] + row[5] + row[6])/6\n",
        "      student_gpa[row[0]] = total        \n",
        "  return student_gpa\n",
        "\n",
        "def sorting(studen_gpa):\n",
        "  count = 1\n",
        "  new_sorted_student_gpa = {}\n",
        "  while True:\n",
        "    for name,gpa in student_gpa.items():\n",
        "      maxGPA = max(student_gpa.values())\n",
        "      if gpa == maxGPA:\n",
        "        delete_key = name\n",
        "        name_list=name.split(\",\")\n",
        "        altered_name = name_list[0]\n",
        "        surname=name_list[1]\n",
        "        new_sorted_student_gpa[count] = [altered_name,surname,gpa]\n",
        "        count+=1\n",
        "        break\n",
        "    del student_gpa[delete_key]\n",
        "    if student_gpa == {}:\n",
        "      break\n",
        "  return new_sorted_student_gpa\n",
        "\n",
        "student_gpa = gpa_calculation(replace_letter_grades_to_int(grade_txt_file))\n",
        "sorted_dict= sorting(student_gpa)\n",
        "print(\"RANK - NAME - GPA\")\n",
        "for count in range(len(sorted_dict)):\n",
        "  print(\"{} - {}, {} - {:.2f} \".format(count+1,sorted_dict[count+1][0],sorted_dict[count+1][1],sorted_dict[count+1][2]))\n"
      ]
    }
  ]
}